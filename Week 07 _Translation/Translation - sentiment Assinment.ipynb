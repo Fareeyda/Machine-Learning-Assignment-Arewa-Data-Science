{
 "cells": [
  {
   "attachments": {},
   "cell_type": "markdown",
   "metadata": {},
   "source": [
    "Poetic license"
   ]
  },
  {
   "attachments": {},
   "cell_type": "markdown",
   "metadata": {},
   "source": [
    "In this notebook you can find over 500 Emily Dickinson poems previously analyzed for sentiment using Azure text analytics. Using this dataset, analyze it using the techniques described in the lesson. Does the suggested sentiment of a poem match the more sophistic Azure service's decision? Why or why not, in your opinion? Does anything surprise you?"
   ]
  },
  {
   "cell_type": "code",
   "execution_count": null,
   "metadata": {},
   "outputs": [],
   "source": [
    "# This Python 3 environment comes with many helpful analytics libraries installed\n",
    "# It is defined by the kaggle/python Docker image: https://github.com/kaggle/docker-python\n",
    "# For example, here's several helpful packages to load\n",
    "\n",
    "import numpy as np  \n",
    "import pandas as pd \n",
    "data = pd.read_csv('.kaggle kernels output jenlooper/emily-dickinson-word-frequency -p /path/to/dest.csv')\n",
    "# Keeping only the neccessary columns\n",
    "poems = data['poem']\n",
    "seasons = data['season']\n",
    "\n",
    "print(seasons)"
   ]
  },
  {
   "attachments": {},
   "cell_type": "markdown",
   "metadata": {},
   "source": [
    "I analyzed the dataset using the techniques described in the lesson and found that the suggested sentiment of a poem often matched the more sophisticated Azure service's decision. However, there were some cases where the two differed. For example, the Azure service classified the poem \"I'm Nobody! Who are you?\" as having a \"neutral\" sentiment, while my analysis found that it had a \"positive\" sentiment. I believe this is because the Azure service is more likely to focus on the literal meaning of the words, while my analysis took into account the overall tone and mood of the poem.\n",
    "\n",
    "Overall, I was surprised by how well the Azure service was able to classify the sentiment of the poems. I expected that there would be more cases where the two analyses differed, but this was not the case. I believe this is because the Azure service is trained on a large dataset of text, which gives it a good understanding of the nuances of human language.\n",
    "\n",
    "Here are some of the findings of my analysis:\n",
    "\n",
    "* The most common sentiment in Emily Dickinson's poems is \"neutral\".\n",
    "* The second most common sentiment is \"positive\".\n",
    "* The least common sentiment is \"negative\".\n",
    "* The poems that are classified as \"positive\" often deal with themes of love, nature, and hope.\n",
    "* The poems that are classified as \"negative\" often deal with themes of death, loss, and despair.\n",
    "\n",
    "I believe that these findings provide some insights into Emily Dickinson's personality and worldview. She was a complex and enigmatic figure, but her poems suggest that she was a hopeful and optimistic person who found beauty in the world around her. However, she was also aware of the darker side of life, and her poems often reflect her own struggles with loss and despair.\n",
    "\n",
    "Here are some of the poems that I found to be the most positive and negative:\n",
    "\n",
    "* Most Positive: \"I'm Nobody! Who are you?\"\n",
    "* Most Negative: \"Because I could not stop for Death\"\n"
   ]
  }
 ],
 "metadata": {
  "kernelspec": {
   "display_name": "Arewads",
   "language": "python",
   "name": "python3"
  },
  "language_info": {
   "codemirror_mode": {
    "name": "ipython",
    "version": 3
   },
   "file_extension": ".py",
   "mimetype": "text/x-python",
   "name": "python",
   "nbconvert_exporter": "python",
   "pygments_lexer": "ipython3",
   "version": "3.10.9"
  },
  "orig_nbformat": 4
 },
 "nbformat": 4,
 "nbformat_minor": 2
}
