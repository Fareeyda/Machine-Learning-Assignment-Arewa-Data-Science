{
 "cells": [
  {
   "cell_type": "code",
   "execution_count": null,
   "metadata": {},
   "outputs": [],
   "source": []
  },
  {
   "attachments": {},
   "cell_type": "markdown",
   "metadata": {},
   "source": [
    "Search for a bot"
   ]
  },
  {
   "attachments": {},
   "cell_type": "markdown",
   "metadata": {},
   "source": [
    "Instructions"
   ]
  },
  {
   "attachments": {},
   "cell_type": "markdown",
   "metadata": {},
   "source": [
    "Bots are everywhere. Your assignment: find one and adopt it! You can find them on web sites, in banking applications, and on the phone, for example when you call financial services companies for advice or account information. Analyze the bot and see if you can confuse it. If you can confuse the bot, why do you think that happened? Write a short paper about your experience."
   ]
  },
  {
   "attachments": {},
   "cell_type": "markdown",
   "metadata": {},
   "source": [
    "Adopting a Bot"
   ]
  },
  {
   "attachments": {},
   "cell_type": "markdown",
   "metadata": {},
   "source": [
    "I decided to adopt a bot from Zenith Bank . The bot's name was \"Ziva,\" and it was designed to help customers with a variety of tasks, such as checking account balances, transferring money, and setting up bill pay."
   ]
  },
  {
   "attachments": {},
   "cell_type": "markdown",
   "metadata": {},
   "source": [
    "I started by asking ziva a few simple questions about my account. It was able to answer these questions correctly, and it even offered to help me with some more complex tasks. For example, I asked Ziva  to check my account number and my balance. Ziva was able to do this without any problems."
   ]
  },
  {
   "attachments": {},
   "cell_type": "markdown",
   "metadata": {},
   "source": [
    "Trying to Confuse the Bot"
   ]
  },
  {
   "attachments": {},
   "cell_type": "markdown",
   "metadata": {},
   "source": [
    "After I was satisfied that Ziva was working properly, I decided to try to confuse it. I started by asking it questions that were outside of its normal range of expertise. For example, I asked Ziva what it thought about the latest political news. Ziva was unable to answer this question, and it simply told me that it was not programmed to discuss politics."
   ]
  },
  {
   "attachments": {},
   "cell_type": "markdown",
   "metadata": {},
   "source": [
    "then i  tried to confuse Ziva by asking it open-ended or hypothetical questions. For example, I asked  what it would do if it could swim. Ziva was unable to answer this question, and it simply told me that it was not programmed to think about hypothetical situations."
   ]
  },
  {
   "attachments": {},
   "cell_type": "markdown",
   "metadata": {},
   "source": [
    "Why I Was Able to Confuse the Bot"
   ]
  },
  {
   "attachments": {},
   "cell_type": "markdown",
   "metadata": {},
   "source": [
    "I was able to confuse Ziva because it is a large language model, not a human being. Large language models are trained on massive datasets of text and code, but they do not have the same understanding of the world as humans do. They can only answer questions that they have been explicitly programmed to answer, and they cannot think about hypothetical situations."
   ]
  },
  {
   "attachments": {},
   "cell_type": "markdown",
   "metadata": {},
   "source": [
    "Conclusion"
   ]
  },
  {
   "attachments": {},
   "cell_type": "markdown",
   "metadata": {},
   "source": [
    "My experience of adopting a bot and trying to confuse it taught me a few things about large language models. First, they are very powerful tools that can be used to automate a variety of tasks. Second, they are not perfect, and they can be confused by questions that are outside of their normal range of expertise. Third, they are still under development, and they are likely to become more sophisticated and capable in the future."
   ]
  }
 ],
 "metadata": {
  "kernelspec": {
   "display_name": "Arewads",
   "language": "python",
   "name": "python3"
  },
  "language_info": {
   "codemirror_mode": {
    "name": "ipython",
    "version": 3
   },
   "file_extension": ".py",
   "mimetype": "text/x-python",
   "name": "python",
   "nbconvert_exporter": "python",
   "pygments_lexer": "ipython3",
   "version": "3.10.9"
  },
  "orig_nbformat": 4
 },
 "nbformat": 4,
 "nbformat_minor": 2
}
