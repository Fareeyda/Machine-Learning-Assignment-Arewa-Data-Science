{
 "cells": [
  {
   "attachments": {},
   "cell_type": "markdown",
   "metadata": {},
   "source": [
    "Train Mountain Car"
   ]
  },
  {
   "attachments": {},
   "cell_type": "markdown",
   "metadata": {},
   "source": [
    "OpenAI Gym has been designed in such a way that all environments provide the same API - i.e. the same methods reset, step and render, and the same abstractions of action space and observation space. Thus is should be possible to adapt the same reinforcement learning algorithms to different environments with minimal code changes."
   ]
  },
  {
   "attachments": {},
   "cell_type": "markdown",
   "metadata": {},
   "source": [
    "A Mountain Car Environment"
   ]
  },
  {
   "attachments": {},
   "cell_type": "markdown",
   "metadata": {},
   "source": [
    "Mountain Car environment contains a car stuck in a valley:"
   ]
  },
  {
   "attachments": {},
   "cell_type": "markdown",
   "metadata": {},
   "source": [
    "The goal is to get out of the valley and capture the flag, by doing at each step one of the following actions:"
   ]
  },
  {
   "attachments": {
    "image.png": {
     "image/png": "[encoded data removed]"
    }
   },
   "cell_type": "markdown",
   "metadata": {},
   "source": [
    "![image.png](attachment:image.png)"
   ]
  },
  {
   "attachments": {},
   "cell_type": "markdown",
   "metadata": {},
   "source": [
    "The main trick of this problem is, however, that the car's engine is not strong enough to scale the mountain in a single pass. Therefore, the only way to succeed is to drive back and forth to build up momentum."
   ]
  },
  {
   "attachments": {},
   "cell_type": "markdown",
   "metadata": {},
   "source": [
    "Observation space consists of just two values:"
   ]
  },
  {
   "attachments": {
    "image.png": {
     "image/png": "[encoded data removed]"
    }
   },
   "cell_type": "markdown",
   "metadata": {},
   "source": [
    "![image.png](attachment:image.png)"
   ]
  },
  {
   "attachments": {},
   "cell_type": "markdown",
   "metadata": {},
   "source": [
    "Reward system for the mountain car is rather tricky:\n",
    "\n",
    " .   Reward of 0 is awarded if the agent reached the flag (position = 0.5) on top of the mountain.\n",
    "\n",
    " .   Reward of -1 is awarded if the position of the agent is less than 0.5.\n",
    "\n",
    "\n",
    "Episode terminates if the car position is more than 0.5, or episode length is greater than 200."
   ]
  },
  {
   "attachments": {},
   "cell_type": "markdown",
   "metadata": {},
   "source": [
    "Instructions"
   ]
  },
  {
   "attachments": {},
   "cell_type": "markdown",
   "metadata": {},
   "source": [
    "Adapt our reinforcement learning algorithm to solve the mountain car problem. Start with existing notebook.ipynb code, substitute new environment, change state discretization functions, and try to make existing algorithm to train with minimal code modifications. Optimize the result by adjusting hyperparameters."
   ]
  },
  {
   "cell_type": "code",
   "execution_count": 1,
   "metadata": {},
   "outputs": [],
   "source": [
    "import sys\n",
    "import gymnasium as gym\n",
    "import matplotlib.pyplot as plt\n",
    "import numpy as np\n",
    "import random"
   ]
  },
  {
   "cell_type": "code",
   "execution_count": 2,
   "metadata": {},
   "outputs": [
    {
     "name": "stdout",
     "output_type": "stream",
     "text": [
      "Discrete(3)\n",
      "Box([-1.2  -0.07], [0.6  0.07], (2,), float32)\n",
      "1\n"
     ]
    }
   ],
   "source": [
    "env = gym.make(\"MountainCar-v0\",render_mode = \"human\")\n",
    "print(env.action_space)\n",
    "print(env.observation_space)\n",
    "print(env.action_space.sample())"
   ]
  },
  {
   "cell_type": "code",
   "execution_count": 3,
   "metadata": {},
   "outputs": [],
   "source": [
    "env = gym.make(\"MountainCar-v0\",render_mode = \"human\")\n",
    "observation, info = env.reset()\n",
    "\n",
    "for i in range(200):\n",
    "   action = env.action_space.sample()  # agent policy that uses the observation and info\n",
    "   observation, reward, terminated, truncated, info = env.step(action)\n",
    "   #if terminated or truncated:\n",
    "     # observation, info = env.reset()\n",
    "env.close()"
   ]
  },
  {
   "cell_type": "code",
   "execution_count": 4,
   "metadata": {},
   "outputs": [
    {
     "name": "stdout",
     "output_type": "stream",
     "text": [
      "[-5.1747125e-01 -4.6301186e-05] -> -1.0\n",
      "[-0.5185635  -0.00109226] -> -1.0\n",
      "[-0.5196935  -0.00113002] -> -1.0\n",
      "[-5.1985282e-01 -1.5930725e-04] -> -1.0\n",
      "[-0.5210402 -0.0011874] -> -1.0\n",
      "[-0.5232468  -0.00220659] -> -1.0\n",
      "[-0.525456   -0.00220923] -> -1.0\n",
      "[-0.52865136 -0.0031953 ] -> -1.0\n",
      "[-0.5328087  -0.00415741] -> -1.0\n",
      "[-0.5378971  -0.00508834] -> -1.0\n",
      "[-0.5438782  -0.00598114] -> -1.0\n",
      "[-0.55070734 -0.00682914] -> -1.0\n",
      "[-0.5563334  -0.00562605] -> -1.0\n",
      "[-0.56071436 -0.00438093] -> -1.0\n",
      "[-0.5658175  -0.00510314] -> -1.0\n",
      "[-0.5696048  -0.00378734] -> -1.0\n",
      "[-0.57304823 -0.00344339] -> -1.0\n",
      "[-0.5761221  -0.00307388] -> -1.0\n",
      "[-0.5778037  -0.00168158] -> -1.0\n",
      "[-0.5790805  -0.00127684] -> -1.0\n",
      "[-0.58094317 -0.00186264] -> -1.0\n",
      "[-0.58237785 -0.00143468] -> -1.0\n",
      "[-0.58437395 -0.00199612] -> -1.0\n",
      "[-0.58591676 -0.00154282] -> -1.0\n",
      "[-0.58699495 -0.00107816] -> -1.0\n",
      "[-0.58760047 -0.00060555] -> -1.0\n",
      "[-5.877290e-01 -1.284777e-04] -> -1.0\n",
      "[-0.58837944 -0.00065046] -> -1.0\n",
      "[-5.8854705e-01 -1.6766084e-04] -> -1.0\n",
      "[-0.5892307  -0.00068362] -> -1.0\n",
      "[-0.5884253   0.00080544] -> -1.0\n",
      "[-0.5861367   0.00228858] -> -1.0\n",
      "[-0.5843818   0.00175487] -> -1.0\n",
      "[-0.5821736   0.00220822] -> -1.0\n",
      "[-0.57852834  0.00364527] -> -1.0\n",
      "[-0.57447296  0.00405538] -> -1.0\n",
      "[-0.5690375   0.00543546] -> -1.0\n",
      "[-0.5622623   0.00677519] -> -1.0\n",
      "[-0.5551978   0.00706452] -> -1.0\n",
      "[-0.5488966   0.00630116] -> -1.0\n",
      "[-0.5424059   0.00649071] -> -1.0\n",
      "[-0.5367742   0.00563169] -> -1.0\n",
      "[-0.5300437   0.00673048] -> -1.0\n",
      "[-0.5222649   0.00777881] -> -1.0\n",
      "[-0.51549613  0.00676881] -> -1.0\n",
      "[-0.5097881   0.00570804] -> -1.0\n",
      "[-0.5041836   0.00560449] -> -1.0\n",
      "[-0.49772462  0.00645896] -> -1.0\n",
      "[-0.49145952  0.0062651 ] -> -1.0\n",
      "[-0.48443508  0.00702443] -> -1.0\n",
      "[-0.4787037   0.00573138] -> -1.0\n",
      "[-0.474308    0.00439568] -> -1.0\n",
      "[-0.4692807   0.00502735] -> -1.0\n",
      "[-0.46465892  0.00462176] -> -1.0\n",
      "[-0.4604769   0.00418201] -> -1.0\n",
      "[-0.45676547  0.00371142] -> -1.0\n",
      "[-0.45355195  0.00321352] -> -1.0\n",
      "[-0.44985992  0.00369203] -> -1.0\n",
      "[-0.44571644  0.00414349] -> -1.0\n",
      "[-0.44215176  0.00356467] -> -1.0\n",
      "[-0.4381919   0.00395988] -> -1.0\n",
      "[-0.43386558  0.00432631] -> -1.0\n",
      "[-0.43120417  0.00266141] -> -1.0\n",
      "[-0.43022686  0.00097729] -> -1.0\n",
      "[-0.43094075 -0.00071387] -> -1.0\n",
      "[-0.43234062 -0.00139989] -> -1.0\n",
      "[-0.43541643 -0.00307581] -> -1.0\n",
      "[-0.43914592 -0.00372949] -> -1.0\n",
      "[-0.44350207 -0.00435613] -> -1.0\n",
      "[-0.44845316 -0.00495109] -> -1.0\n",
      "[-0.45296308 -0.00450993] -> -1.0\n",
      "[-0.45899883 -0.00603574] -> -1.0\n",
      "[-0.46651605 -0.00751721] -> -1.0\n",
      "[-0.47545928 -0.00894324] -> -1.0\n",
      "[-0.4837623  -0.00830303] -> -1.0\n",
      "[-0.4933634 -0.0096011] -> -1.0\n",
      "[-0.504191   -0.01082755] -> -1.0\n",
      "[-0.51516396 -0.01097303] -> -1.0\n",
      "[-0.52520025 -0.01003628] -> -1.0\n",
      "[-0.53622454 -0.01102427] -> -1.0\n",
      "[-0.5481541 -0.0119296] -> -1.0\n",
      "[-0.56089973 -0.0127456 ] -> -1.0\n",
      "[-0.5723662  -0.01146643] -> -1.0\n",
      "[-0.58246815 -0.01010197] -> -1.0\n",
      "[-0.59113085 -0.00866275] -> -1.0\n",
      "[-0.5992906  -0.00815971] -> -1.0\n",
      "[-0.60688746 -0.00759689] -> -1.0\n",
      "[-0.61286616 -0.00597871] -> -1.0\n",
      "[-0.6171834  -0.00431717] -> -1.0\n",
      "[-0.61980784 -0.00262447] -> -1.0\n",
      "[-0.6227207  -0.00291288] -> -1.0\n",
      "[-0.62390107 -0.00118038] -> -1.0\n",
      "[-6.2434053e-01 -4.3940952e-04] -> -1.0\n",
      "[-0.6250358 -0.0006953] -> -1.0\n",
      "[-0.625982   -0.00094621] -> -1.0\n",
      "[-6.2617236e-01 -1.9034896e-04] -> -1.0\n",
      "[-6.266055e-01 -4.331309e-04] -> -1.0\n",
      "[-0.6252783   0.00132718] -> -1.0\n",
      "[-0.6242003   0.00107801] -> -1.0\n",
      "[-0.6213792   0.00282112] -> -1.0\n",
      "[-0.6168352  0.004544 ] -> -1.0\n",
      "[-0.610601    0.00623419] -> -1.0\n",
      "[-0.6027217   0.00787932] -> -1.0\n",
      "[-0.5952545   0.00746719] -> -1.0\n",
      "[-0.586254    0.00900047] -> -1.0\n",
      "[-0.5777864   0.00846763] -> -1.0\n",
      "[-0.5689141   0.00887225] -> -1.0\n",
      "[-0.55870306  0.01021107] -> -1.0\n",
      "[-0.5482292   0.01047386] -> -1.0\n",
      "[-0.5375708   0.01065842] -> -1.0\n",
      "[-0.5268076   0.01076318] -> -1.0\n",
      "[-0.51702034  0.00978725] -> -1.0\n",
      "[-0.50728244  0.00973791] -> -1.0\n",
      "[-0.49666688  0.01061559] -> -1.0\n",
      "[-0.48725304  0.00941382] -> -1.0\n",
      "[-0.47911128  0.00814177] -> -1.0\n",
      "[-0.47130218  0.0078091 ] -> -1.0\n",
      "[-0.46488371  0.00641848] -> -1.0\n",
      "[-0.4589033   0.00598039] -> -1.0\n",
      "[-0.4544051   0.00449822] -> -1.0\n",
      "[-0.45142213  0.00298298] -> -1.0\n",
      "[-0.44797623  0.00344588] -> -1.0\n",
      "[-0.44509268  0.00288356] -> -1.0\n",
      "[-0.44279248  0.00230019] -> -1.0\n",
      "[-0.4400924   0.00270007] -> -1.0\n",
      "[-0.4390121  0.0010803] -> -1.0\n",
      "[-0.43755943  0.00145269] -> -1.0\n",
      "[-4.3774489e-01 -1.8546825e-04] -> -1.0\n",
      "[-0.43856716 -0.00082228] -> -1.0\n",
      "[-0.44102028 -0.00245312] -> -1.0\n",
      "[-0.44308645 -0.00206614] -> -1.0\n",
      "[-0.44675055 -0.00366413] -> -1.0\n",
      "[-0.44998595 -0.0032354 ] -> -1.0\n",
      "[-0.45276898 -0.00278302] -> -1.0\n",
      "[-0.45707923 -0.00431025] -> -1.0\n",
      "[-0.4618851  -0.00480585] -> -1.0\n",
      "[-0.46615115 -0.00426606] -> -1.0\n",
      "[-0.47184592 -0.00569479] -> -1.0\n",
      "[-0.4769273  -0.00508138] -> -1.0\n",
      "[-0.4823576  -0.00543027] -> -1.0\n",
      "[-0.48709637 -0.00473879] -> -1.0\n",
      "[-0.4931084  -0.00601201] -> -1.0\n",
      "[-0.49934876 -0.00624037] -> -1.0\n",
      "[-0.50677085 -0.00742208] -> -1.0\n",
      "[-0.51431906 -0.00754824] -> -1.0\n",
      "[-0.5219369  -0.00761783] -> -1.0\n",
      "[-0.53056717 -0.00863029] -> -1.0\n",
      "[-0.5401452  -0.00957803] -> -1.0\n",
      "[-0.54859924 -0.00845399] -> -1.0\n",
      "[-0.5558659  -0.00726666] -> -1.0\n",
      "[-0.56389093 -0.00802503] -> -1.0\n",
      "[-0.5706145  -0.00672358] -> -1.0\n",
      "[-0.5779866  -0.00737213] -> -1.0\n",
      "[-0.58495265 -0.00696603] -> -1.0\n",
      "[-0.5914611  -0.00650847] -> -1.0\n",
      "[-0.5964641  -0.00500301] -> -1.0\n",
      "[-0.60192496 -0.00546086] -> -1.0\n",
      "[-0.60780376 -0.0058788 ] -> -1.0\n",
      "[-0.6140577  -0.00625396] -> -1.0\n",
      "[-0.6206416  -0.00658382] -> -1.0\n",
      "[-0.6265078  -0.00586623] -> -1.0\n",
      "[-0.6306144  -0.00410662] -> -1.0\n",
      "[-0.6329321  -0.00231772] -> -1.0\n",
      "[-0.63544446 -0.00251234] -> -1.0\n",
      "[-0.6371336  -0.00168915] -> -1.0\n",
      "[-0.6379876  -0.00085401] -> -1.0\n",
      "[-6.3800049e-01 -1.2831828e-05] -> -1.0\n",
      "[-6.3817203e-01 -1.7156442e-04] -> -1.0\n",
      "[-6.3850111e-01 -3.2908545e-04] -> -1.0\n",
      "[-0.6369854   0.00151572] -> -1.0\n",
      "[-0.63463557  0.00234981] -> -1.0\n",
      "[-0.6314683   0.00316727] -> -1.0\n",
      "[-0.62850606  0.00296225] -> -1.0\n",
      "[-0.62376994  0.00473613] -> -1.0\n",
      "[-0.6172938   0.00647615] -> -1.0\n",
      "[-0.61112416  0.00616965] -> -1.0\n",
      "[-0.60530555  0.00581857] -> -1.0\n",
      "[-0.5988803   0.00642525] -> -1.0\n",
      "[-0.5918952   0.00698508] -> -1.0\n",
      "[-0.5834015   0.00849373] -> -1.0\n",
      "[-0.57446164  0.00893984] -> -1.0\n",
      "[-0.5651418   0.00931984] -> -1.0\n",
      "[-0.55451125  0.0106306 ] -> -1.0\n",
      "[-0.5446491   0.00986212] -> -1.0\n",
      "[-0.5356292   0.00901989] -> -1.0\n",
      "[-0.5275191  0.0081101] -> -1.0\n",
      "[-0.5183796  0.0091395] -> -1.0\n",
      "[-0.5102793   0.00810036] -> -1.0\n",
      "[-0.5022788   0.00800049] -> -1.0\n",
      "[-0.49443808  0.0078407 ] -> -1.0\n",
      "[-0.4868158   0.00762227] -> -1.0\n",
      "[-0.47846887  0.00834696] -> -1.0\n",
      "[-0.47045934  0.00800952] -> -1.0\n",
      "[-0.46384668  0.00661266] -> -1.0\n",
      "[-0.45867977  0.00516691] -> -1.0\n",
      "[-0.4529967   0.00568309] -> -1.0\n",
      "[-0.44783917  0.00515753] -> -1.0\n",
      "[-0.44224495  0.00559421] -> -1.0\n",
      "[-0.43825486  0.00399009] -> -1.0\n",
      "[-0.43489787  0.00335698] -> -1.0\n"
     ]
    }
   ],
   "source": [
    "env = gym.make(\"MountainCar-v0\", render_mode = \"human\")\n",
    "observation, info = env.reset()\n",
    "terminated = False\n",
    "truncated = False\n",
    "\n",
    "while not terminated and not truncated:\n",
    "    action = env.action_space.sample()  # agent policy that uses the observation and info\n",
    "    observation, reward, terminated, truncated, info = env.step(action)\n",
    "    print(f\"{observation} -> {reward}\")\n",
    "   \n",
    "env.close()"
   ]
  },
  {
   "cell_type": "code",
   "execution_count": 5,
   "metadata": {},
   "outputs": [
    {
     "name": "stdout",
     "output_type": "stream",
     "text": [
      "[-1.2  -0.07]\n",
      "[0.6  0.07]\n"
     ]
    }
   ],
   "source": [
    "print(env.observation_space.low)\n",
    "print(env.observation_space.high)"
   ]
  },
  {
   "cell_type": "code",
   "execution_count": 10,
   "metadata": {},
   "outputs": [],
   "source": [
    "def discretize(x):\n",
    "    return tuple(((x - np.array([-1.2, -0.07])) / np.array([0.1, 0.01])).astype(int))"
   ]
  },
  {
   "cell_type": "code",
   "execution_count": 6,
   "metadata": {},
   "outputs": [],
   "source": [
    "Q = {}\n",
    "actions = (0,1,2)\n",
    "\n",
    "def qvalues(state):\n",
    "    return [Q.get((state,a),0) for a in actions]"
   ]
  },
  {
   "cell_type": "code",
   "execution_count": 7,
   "metadata": {},
   "outputs": [],
   "source": [
    "# hyperparameters\n",
    "alpha = 0.3\n",
    "gamma = 0.9\n",
    "epsilon = 0.90"
   ]
  },
  {
   "cell_type": "code",
   "execution_count": 8,
   "metadata": {},
   "outputs": [],
   "source": [
    "def probs(v,eps=1e-4):\n",
    "    v = v-v.min()+eps\n",
    "    v = v/v.sum()\n",
    "    return v"
   ]
  },
  {
   "cell_type": "code",
   "execution_count": 13,
   "metadata": {},
   "outputs": [
    {
     "name": "stdout",
     "output_type": "stream",
     "text": [
      "0: -200.0, alpha=0.3, epsilon=0.9\n",
      "50: -200.0, alpha=0.3, epsilon=0.9\n",
      "100: -200.0, alpha=0.3, epsilon=0.9\n",
      "150: -200.0, alpha=0.3, epsilon=0.9\n",
      "200: -200.0, alpha=0.3, epsilon=0.9\n",
      "250: -200.0, alpha=0.3, epsilon=0.9\n",
      "300: -200.0, alpha=0.3, epsilon=0.9\n",
      "350: -200.0, alpha=0.3, epsilon=0.9\n",
      "400: -200.0, alpha=0.3, epsilon=0.9\n",
      "450: -200.0, alpha=0.3, epsilon=0.9\n",
      "500: -200.0, alpha=0.3, epsilon=0.9\n",
      "550: -200.0, alpha=0.3, epsilon=0.9\n",
      "600: -200.0, alpha=0.3, epsilon=0.9\n",
      "650: -200.0, alpha=0.3, epsilon=0.9\n",
      "700: -199.74, alpha=0.3, epsilon=0.9\n",
      "750: -199.5, alpha=0.3, epsilon=0.9\n",
      "800: -200.0, alpha=0.3, epsilon=0.9\n",
      "850: -200.0, alpha=0.3, epsilon=0.9\n",
      "900: -200.0, alpha=0.3, epsilon=0.9\n",
      "950: -200.0, alpha=0.3, epsilon=0.9\n"
     ]
    }
   ],
   "source": [
    "env = gym.make(\"MountainCar-v0\", render_mode = \"human\")\n",
    "Qmax = 0\n",
    "cum_rewards = []\n",
    "rewards = []\n",
    "for epoch in range(1000):\n",
    "    observation, info = env.reset()\n",
    "    cum_reward=0\n",
    "    terminated = False\n",
    "    truncated = False\n",
    "    # == do the simulation ==\n",
    "    while not terminated and not truncated:\n",
    "        s = discretize(observation)\n",
    "        if random.random()<epsilon:\n",
    "        # exploitation - chose the action according to Q-Table probabilities\n",
    "            v = probs(np.array(qvalues(s)))\n",
    "            a = random.choices(actions,weights=v)[0]\n",
    "        else:\n",
    "        # exploration - randomly chose the action\n",
    "            a = np.random.randint(env.action_space.n)\n",
    "\n",
    "        observation, reward, terminated, truncated, info = env.step(a)\n",
    "        cum_reward+=reward\n",
    "        ns = discretize(observation)\n",
    "        Q[(s,a)] = (1 - alpha) * Q.get((s,a),0) + alpha * (reward + gamma * max(qvalues(ns)))\n",
    "    \n",
    "                \n",
    "    cum_rewards.append(cum_reward)\n",
    "    rewards.append(cum_reward)\n",
    "    # == Periodically print results and calculate average reward ==\n",
    "    if epoch%50==0:\n",
    "        print(f\"{epoch}: {np.average(cum_rewards)}, alpha={alpha}, epsilon={epsilon}\")\n",
    "        if np.average(cum_rewards) > Qmax:\n",
    "            Qmax = np.average(cum_rewards)\n",
    "            Qbest = Q\n",
    "        cum_rewards=[]\n",
    "\n"
   ]
  }
 ],
 "metadata": {
  "kernelspec": {
   "display_name": "Arewads",
   "language": "python",
   "name": "python3"
  },
  "language_info": {
   "codemirror_mode": {
    "name": "ipython",
    "version": 3
   },
   "file_extension": ".py",
   "mimetype": "text/x-python",
   "name": "python",
   "nbconvert_exporter": "python",
   "pygments_lexer": "ipython3",
   "version": "3.10.9"
  },
  "orig_nbformat": 4
 },
 "nbformat": 4,
 "nbformat_minor": 2
}
