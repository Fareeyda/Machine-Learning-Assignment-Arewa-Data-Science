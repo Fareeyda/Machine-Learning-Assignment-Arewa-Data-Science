{
 "cells": [
  {
   "attachments": {},
   "cell_type": "markdown",
   "metadata": {},
   "source": [
    "TECHNIQUES "
   ]
  },
  {
   "cell_type": "code",
   "execution_count": null,
   "metadata": {
    "vscode": {
     "languageId": "plaintext"
    }
   },
   "outputs": [],
   "source": [
    "# Techniques of machine learning\n",
    "  it is the process of building, using, and maintaining machine\n",
    "  learning models and the data they use is a very different\n",
    "  process from many other development workflows. \n",
    "  On a high level, the craft of creating machine learning (ML) processes is comprised of a number of steps:\n",
    "\n",
    "  1.Decide on the question: Most ML processes start by asking a question that cannot be answered by a simple conditional program or rules-based engine. These questions often revolve around predictions based on a collection of data.\n",
    "  2.Collect and prepare data: To be able to answer your question, you need data. The quality and, sometimes, quantity of your data will determine how well you can answer your initial question. Visualizing data is an important aspect of this phase. This phase also includes splitting the data into a training and testing group to build a model.\n",
    "  3.Choose a training method: Depending on your question and the nature of your data, you need to choose how you want to train a model to best reflect your data and make accurate predictions against it. This is the part of your ML process that requires specific expertise and, often, a considerable amount of experimentation.\n",
    "  4.Train the model: Using your training data, you'll use various algorithms to train a model to recognize patterns in the data. The model might leverage internal weights that can be adjusted to privilege certain parts of the data over others to build a better model.\n",
    "  5.Evaluate the model: You use never before seen data (your testing data) from your collected set to see how the model is performing.\n",
    "  6.Parameter tuning: Based on the performance of your model, you can redo the process using different parameters, or variables, that control the behavior of the algorithms used to train the model.\n",
    "  7.Predict: Use new inputs to test the accuracy of your model."
   ]
  },
  {
   "cell_type": "code",
   "execution_count": null,
   "metadata": {
    "vscode": {
     "languageId": "plaintext"
    }
   },
   "outputs": [],
   "source": [
    "# Pre-building tasks\n",
    "  Before starting to build your model, there are several tasks you need to complete. To test your question and form a hypothesis based on a model's predictions, you need to identify and configure several elements.\n",
    " 1.Data:to be able to answer your question with any kind of certainty, you need a good amount of data of the right type.\n",
    " 2.Features and Target:A feature is a measurable property of your data. In many datasets it is expressed as a column heading\n",
    "   like 'date' 'size' or 'color'. Your feature variable, usually represented as X in code, represent the input variable which will be used to train model.\n",
    " 3.Selecting your feature variable:\n",
    " 4.Visualize your data:using several libraries such as matplotlib and seaborn \n",
    " 5.Split your dataset:Prior to training, you need to split your dataset into two or more parts of unequal size that still represent the data well.\n",
    " "
   ]
  },
  {
   "cell_type": "code",
   "execution_count": null,
   "metadata": {
    "vscode": {
     "languageId": "plaintext"
    }
   },
   "outputs": [],
   "source": [
    "# Building a model\n",
    "  Using your training data, your goal is to build a model, or a statistical representation\n",
    "  of your data, using various algorithms to train it. Training a model\n",
    "  exposes it to data and allows it to make assumptions about perceived patterns it discovers, validates, and accepts or rejects.\n",
    "\n",
    "# Decide on a training method\n",
    "  Depending on your question and the nature of your data, you will choose a method to train it. \n"
   ]
  }
 ],
 "metadata": {
  "language_info": {
   "name": "python"
  },
  "orig_nbformat": 4
 },
 "nbformat": 4,
 "nbformat_minor": 2
}
