{
 "cells": [
  {
   "attachments": {},
   "cell_type": "markdown",
   "metadata": {},
   "source": [
    "Common natural language processing tasks and techniques"
   ]
  },
  {
   "attachments": {},
   "cell_type": "markdown",
   "metadata": {},
   "source": [
    "For most natural language processing tasks, the text to be processed, must be broken down, examined, and the results stored or cross referenced with rules and data sets. These tasks, allows the programmer to derive the meaning or intent or only the frequency of terms and words in a text."
   ]
  },
  {
   "attachments": {},
   "cell_type": "markdown",
   "metadata": {},
   "source": [
    "Tasks common to NLP"
   ]
  },
  {
   "attachments": {},
   "cell_type": "markdown",
   "metadata": {},
   "source": [
    "There are different ways to analyse a text you are working on. There are tasks you can perform and through these tasks you are able to gauge an understanding of the text and draw conclusions. You usually carry out these tasks in a sequence."
   ]
  },
  {
   "attachments": {},
   "cell_type": "markdown",
   "metadata": {},
   "source": [
    "Tokenization"
   ]
  },
  {
   "attachments": {},
   "cell_type": "markdown",
   "metadata": {},
   "source": [
    "Probably the first thing most NLP algorithms have to do is to split the text into tokens, or words. While this sounds simple, having to account for punctuation and different languages' word and sentence delimiters can make it tricky. You might have to use various methods to determine demarcations."
   ]
  },
  {
   "attachments": {},
   "cell_type": "markdown",
   "metadata": {},
   "source": [
    "Embeddings"
   ]
  },
  {
   "attachments": {},
   "cell_type": "markdown",
   "metadata": {},
   "source": [
    "Word embeddings are a way to convert your text data numerically. Embeddings are done in a way so that words with a similar meaning or words used together cluster together."
   ]
  },
  {
   "attachments": {},
   "cell_type": "markdown",
   "metadata": {},
   "source": [
    "Parsing & Part-of-speech Tagging"
   ]
  },
  {
   "attachments": {},
   "cell_type": "markdown",
   "metadata": {},
   "source": [
    "Parsing is recognizing what words are related to each other in a sentence - for instance the quick red fox jumped is an adjective-noun-verb sequence that is separate from the lazy brown dog sequence."
   ]
  },
  {
   "attachments": {},
   "cell_type": "markdown",
   "metadata": {},
   "source": [
    "Word and Phrase Frequencies"
   ]
  },
  {
   "attachments": {},
   "cell_type": "markdown",
   "metadata": {},
   "source": [
    "A useful procedure when analyzing a large body of text is to build a dictionary of every word or phrase of interest and how often it appears. The phrase the quick red fox jumped over the lazy brown dog has a word frequency of 2 for the."
   ]
  },
  {
   "attachments": {},
   "cell_type": "markdown",
   "metadata": {},
   "source": [
    "Let's look at an example text where we count the frequency of words. Rudyard Kipling's poem The Winners contains the following verse:"
   ]
  },
  {
   "attachments": {},
   "cell_type": "markdown",
   "metadata": {},
   "source": [
    "What the moral? Who rides may read.\n",
    "\n",
    "When the night is thick and the tracks are blind\n",
    "\n",
    "A friend at a pinch is a friend, indeed,\n",
    "\n",
    "But a fool to wait for the laggard behind.\n",
    "\n",
    "Down to Gehenna or up to the Throne,\n",
    "\n",
    "He travels the fastest who travels alone."
   ]
  },
  {
   "attachments": {},
   "cell_type": "markdown",
   "metadata": {},
   "source": [
    "As phrase frequencies can be case insensitive or case sensitive as required, the phrase a friend has a frequency of 2 and the has a frequency of 6, and travels is 2."
   ]
  },
  {
   "attachments": {},
   "cell_type": "markdown",
   "metadata": {},
   "source": [
    "N-grams"
   ]
  },
  {
   "attachments": {},
   "cell_type": "markdown",
   "metadata": {},
   "source": [
    "A text can be split into sequences of words of a set length, a single word (unigram), two words (bigrams), three words (trigrams) or any number of words (n-grams)."
   ]
  },
  {
   "attachments": {},
   "cell_type": "markdown",
   "metadata": {},
   "source": [
    "For instance the quick red fox jumped over the lazy brown dog with a n-gram score of 2 produces the following n-grams:"
   ]
  },
  {
   "attachments": {},
   "cell_type": "markdown",
   "metadata": {},
   "source": [
    "\n",
    "    1 the quick\n",
    "\n",
    "    2 quick red\n",
    "\n",
    "    3 red fox\n",
    "\n",
    "    4 fox jumped\n",
    "\n",
    "    5 jumped over\n",
    "\n",
    "    6 over the\n",
    "\n",
    "    7 the lazy\n",
    "\n",
    "    8 lazy brown\n",
    "    \n",
    "    9 brown dog\n"
   ]
  },
  {
   "attachments": {},
   "cell_type": "markdown",
   "metadata": {},
   "source": [
    "It might be easier to visualize it as a sliding box over the sentence. Here it is for n-grams of 3 words, the n-gram is in bold in each sentence:"
   ]
  },
  {
   "attachments": {},
   "cell_type": "markdown",
   "metadata": {},
   "source": [
    "\n",
    "    1 the quick red fox jumped over the lazy brown dog\n",
    "\n",
    "    2 the quick red fox jumped over the lazy brown dog\n",
    "\n",
    "    3 the quick red fox jumped over the lazy brown dog\n",
    "\n",
    "    4 the quick red fox jumped over the lazy brown dog\n",
    "\n",
    "   5  the quick red fox jumped over the lazy brown dog\n",
    "\n",
    "   6 the quick red fox jumped over the lazy brown dog\n",
    "\n",
    "   7 the quick red fox jumped over the lazy brown dog\n",
    "\n",
    "   8 the quick red fox jumped over the lazy brown dog\n"
   ]
  },
  {
   "attachments": {},
   "cell_type": "markdown",
   "metadata": {},
   "source": [
    "Noun phrase Extraction"
   ]
  },
  {
   "attachments": {},
   "cell_type": "markdown",
   "metadata": {},
   "source": [
    "In most sentences, there is a noun that is the subject, or object of the sentence. In English, it is often identifiable as having 'a' or 'an' or 'the' preceding it. Identifying the subject or object of a sentence by 'extracting the noun phrase' is a common task in NLP when attempting to understand the meaning of a sentence."
   ]
  },
  {
   "attachments": {},
   "cell_type": "markdown",
   "metadata": {},
   "source": [
    "n the sentence \"I cannot fix on the hour, or the spot, or the look or the words, which laid the foundation. It is too long ago. I was in the middle before I knew that I had begun.\", can you identify the noun phrases?"
   ]
  },
  {
   "attachments": {},
   "cell_type": "markdown",
   "metadata": {},
   "source": [
    "In the sentence the quick red fox jumped over the lazy brown dog there are 2 noun phrases: quick red fox and lazy brown dog"
   ]
  },
  {
   "attachments": {},
   "cell_type": "markdown",
   "metadata": {},
   "source": [
    "Sentiment analysis"
   ]
  },
  {
   "attachments": {},
   "cell_type": "markdown",
   "metadata": {},
   "source": [
    "A sentence or text can be analysed for sentiment, or how positive or negative it is. Sentiment is measured in polarity and objectivity/subjectivity. Polarity is measured from -1.0 to 1.0 (negative to positive) and 0.0 to 1.0 (most objective to most subjective)."
   ]
  },
  {
   "attachments": {},
   "cell_type": "markdown",
   "metadata": {},
   "source": [
    "Later you'll learn that there are different ways to determine sentiment using machine learning, but one way is to have a list of words and phrases that are categorized as positive or negative by a human expert and apply that model to text to calculate a polarity score. Can you see how this would work in some circumstances and less well in others?"
   ]
  },
  {
   "attachments": {},
   "cell_type": "markdown",
   "metadata": {},
   "source": [
    "Inflection"
   ]
  },
  {
   "attachments": {},
   "cell_type": "markdown",
   "metadata": {},
   "source": [
    "Inflection enables you to take a word and get the singular or plural of the word."
   ]
  },
  {
   "attachments": {},
   "cell_type": "markdown",
   "metadata": {},
   "source": [
    "Lemmatization"
   ]
  },
  {
   "attachments": {},
   "cell_type": "markdown",
   "metadata": {},
   "source": [
    "A lemma is the root or headword for a set of words, for instance flew, flies, flying have a lemma of the verb fly."
   ]
  },
  {
   "attachments": {},
   "cell_type": "markdown",
   "metadata": {},
   "source": [
    "WordNet"
   ]
  },
  {
   "attachments": {},
   "cell_type": "markdown",
   "metadata": {},
   "source": [
    "WordNet is a database of words, synonyms, antonyms and many other details for every word in many different languages. It is incredibly useful when attempting to build translations, spell checkers, or language tools of any type."
   ]
  },
  {
   "attachments": {},
   "cell_type": "markdown",
   "metadata": {},
   "source": [
    "NLP Libraries"
   ]
  },
  {
   "attachments": {},
   "cell_type": "markdown",
   "metadata": {},
   "source": [
    "Luckily, you don't have to build all of these techniques yourself, as there are excellent Python libraries available that make it much more accessible to developers who aren't specialized in natural language processing or machine learning. The next lessons include more examples of these, but here you will learn some useful examples to help you with the next task."
   ]
  },
  {
   "attachments": {},
   "cell_type": "markdown",
   "metadata": {},
   "source": [
    "Exercise - using TextBlob library"
   ]
  },
  {
   "attachments": {},
   "cell_type": "markdown",
   "metadata": {},
   "source": [
    "Let's use a library called TextBlob as it contains helpful APIs for tackling these types of tasks. TextBlob \"stands on the giant shoulders of NLTK and pattern, and plays nicely with both.\" It has a considerable amount of ML embedded in its API."
   ]
  },
  {
   "attachments": {},
   "cell_type": "markdown",
   "metadata": {},
   "source": [
    "When attempting to identify noun phrases, TextBlob offers several options of extractors to find noun phrases."
   ]
  },
  {
   "attachments": {},
   "cell_type": "markdown",
   "metadata": {},
   "source": [
    "Take a look at ConllExtractor."
   ]
  },
  {
   "cell_type": "code",
   "execution_count": 1,
   "metadata": {},
   "outputs": [
    {
     "name": "stdout",
     "output_type": "stream",
     "text": [
      "Requirement already satisfied: textBlob in c:\\users\\user\\miniconda3\\envs\\arewads\\lib\\site-packages (0.17.1)\n",
      "Requirement already satisfied: nltk>=3.1 in c:\\users\\user\\miniconda3\\envs\\arewads\\lib\\site-packages (from textBlob) (3.8.1)\n",
      "Requirement already satisfied: joblib in c:\\users\\user\\miniconda3\\envs\\arewads\\lib\\site-packages (from nltk>=3.1->textBlob) (1.2.0)\n",
      "Requirement already satisfied: regex>=2021.8.3 in c:\\users\\user\\miniconda3\\envs\\arewads\\lib\\site-packages (from nltk>=3.1->textBlob) (2022.7.9)\n",
      "Requirement already satisfied: click in c:\\users\\user\\miniconda3\\envs\\arewads\\lib\\site-packages (from nltk>=3.1->textBlob) (8.1.3)\n",
      "Requirement already satisfied: tqdm in c:\\users\\user\\miniconda3\\envs\\arewads\\lib\\site-packages (from nltk>=3.1->textBlob) (4.65.0)\n",
      "Requirement already satisfied: colorama in c:\\users\\user\\miniconda3\\envs\\arewads\\lib\\site-packages (from click->nltk>=3.1->textBlob) (0.4.6)\n",
      "Note: you may need to restart the kernel to use updated packages.\n"
     ]
    }
   ],
   "source": [
    "pip install textBlob"
   ]
  },
  {
   "cell_type": "code",
   "execution_count": null,
   "metadata": {},
   "outputs": [],
   "source": [
    "from textblob import TextBlob\n",
    "from textblob.np_extractors import ConllExtractor\n",
    "# import and create a Conll extractor to use later \n",
    "extractor = ConllExtractor()\n",
    "\n",
    "# later when you need a noun phrase extractor:\n",
    "user_input = input(\"> \")\n",
    "user_input_blob = TextBlob(user_input, np_extractor=extractor)  # note non-default extractor specified\n",
    "np = user_input_blob.noun_phrases                                    "
   ]
  },
  {
   "attachments": {},
   "cell_type": "markdown",
   "metadata": {},
   "source": [
    "Challenge - improving your bot with NLP"
   ]
  },
  {
   "attachments": {},
   "cell_type": "markdown",
   "metadata": {},
   "source": [
    "In the previous lesson you built a very simple Q&A bot. Now, you'll make Marvin a bit more sympathetic by analyzing your input for sentiment and printing out a response to match the sentiment. You'll also need to identify a noun_phrase and ask about it."
   ]
  },
  {
   "attachments": {},
   "cell_type": "markdown",
   "metadata": {},
   "source": [
    "Your steps when building a better conversational bot:"
   ]
  },
  {
   "attachments": {},
   "cell_type": "markdown",
   "metadata": {},
   "source": [
    "\n",
    "    1 Print instructions advising the user how to interact with the bot\n",
    "    2 Start loop\n",
    "       i Accept user input\n",
    "       ii If user has asked to exit, then exit\n",
    "       iii Process user input and determine appropriate sentiment response\n",
    "       iv If a noun phrase is detected in the sentiment, pluralize it and ask for more input on that topic\n",
    "      v  Print response\n",
    "    3 loop back to step 2\n"
   ]
  },
  {
   "attachments": {},
   "cell_type": "markdown",
   "metadata": {},
   "source": [
    "Here is the code snippet to determine sentiment using TextBlob. Note there are only four gradients of sentiment response (you could have more if you like):"
   ]
  },
  {
   "cell_type": "code",
   "execution_count": null,
   "metadata": {},
   "outputs": [],
   "source": [
    "from textblob import TextBlob\n",
    "from textblob.np_extractors import ConllExtractor\n",
    "\n",
    "if user_input_blob.polarity <= -0.5:\n",
    "  response = \"Oh dear, that sounds bad. \"\n",
    "elif user_input_blob.polarity <= 0:\n",
    "  response = \"Hmm, that's not great. \"\n",
    "elif user_input_blob.polarity <= 0.5:\n",
    "  response = \"Well, that sounds positive. \"\n",
    "elif user_input_blob.polarity <= 1:\n",
    "  response = \"Wow, that sounds great. \""
   ]
  },
  {
   "attachments": {},
   "cell_type": "markdown",
   "metadata": {},
   "source": [
    "Here is some sample output to guide you (user input is on the lines with starting with >):"
   ]
  },
  {
   "attachments": {},
   "cell_type": "markdown",
   "metadata": {},
   "source": [
    "Hello, I am Marvin, the friendly robot.\n",
    "\n",
    "You can end this conversation at any time by typing 'bye'\n",
    "\n",
    "After typing each answer, press 'enter'\n",
    "\n",
    "How are you today?\n",
    "\n",
    "> I am ok\n",
    "\n",
    "Well, that sounds positive. Can you tell me more?\n",
    "\n",
    "> I went for a walk and saw a lovely cat\n",
    "\n",
    "Well, that sounds positive. Can you tell me more about lovely cats?\n",
    "\n",
    "> cats are the best. But I also have a cool dog\n",
    "\n",
    "Wow, that sounds great. Can you tell me more about cool dogs?\n",
    "\n",
    "> I have an old hounddog but he is sick\n",
    "\n",
    "Hmm, that's not great. Can you tell me more about old hounddogs?\n",
    "\n",
    "> bye\n",
    "\n",
    "It was nice talking to you, goodbye!"
   ]
  },
  {
   "cell_type": "code",
   "execution_count": null,
   "metadata": {},
   "outputs": [],
   "source": [
    "import nltk\n",
    "import textblob\n",
    "\n",
    "# Create a list of trigger words\n",
    "trigger_words = [\"why\", \"how\"]\n",
    "\n",
    "# Create a function to generate a response\n",
    "def generate_response(user_input):\n",
    "  # Tokenize the user's input\n",
    "  tokens = nltk.word_tokenize(user_input)\n",
    "\n",
    "  # Identify any trigger words\n",
    "  trigger_words_found = []\n",
    "  for word in tokens:\n",
    "    if word in trigger_words:\n",
    "      trigger_words_found.append(word)\n",
    "\n",
    "  # If no trigger words are found, generate a random response\n",
    "  if len(trigger_words_found) == 0:\n",
    "    return textblob.TextBlob(\"I don't know what you mean.\").generate()\n",
    "\n",
    "  # Otherwise, generate a response based on the trigger word\n",
    "  for trigger_word in trigger_words_found:\n",
    "    if trigger_word == \"why\":\n",
    "      return textblob.TextBlob(\"I don't know why.\").generate()\n",
    "    elif trigger_word == \"how\":\n",
    "      return textblob.TextBlob(\"I don't know how.\").generate()\n",
    "\n",
    "# Start the chat bot\n",
    "while True:\n",
    "  # Get the user's input\n",
    "  user_input = input(\"What do you want to talk about? \")\n",
    "\n",
    "  # Generate a response\n",
    "  response = generate_response(user_input)\n",
    "  # Print the response\n",
    "  print(response)\n",
    "\n",
    "  # Check if the user wants to end the chat\n",
    "  if user_input == \"bye\":\n",
    "    break\n"
   ]
  }
 ],
 "metadata": {
  "kernelspec": {
   "display_name": "Arewads",
   "language": "python",
   "name": "python3"
  },
  "language_info": {
   "codemirror_mode": {
    "name": "ipython",
    "version": 3
   },
   "file_extension": ".py",
   "mimetype": "text/x-python",
   "name": "python",
   "nbconvert_exporter": "python",
   "pygments_lexer": "ipython3",
   "version": "3.10.9"
  },
  "orig_nbformat": 4
 },
 "nbformat": 4,
 "nbformat_minor": 2
}
