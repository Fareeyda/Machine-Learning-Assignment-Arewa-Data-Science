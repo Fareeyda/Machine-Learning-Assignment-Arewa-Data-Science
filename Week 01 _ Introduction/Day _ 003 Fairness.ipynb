{
 "cells": [
  {
   "attachments": {},
   "cell_type": "markdown",
   "metadata": {},
   "source": [
    "FAIRNESS"
   ]
  },
  {
   "cell_type": "code",
   "execution_count": null,
   "metadata": {},
   "outputs": [],
   "source": [
    "# this statement sounds extreme, but it is true that data can be\n",
    "  manipulated to support any conclusion. Such manipulation can sometimes\n",
    "  happen unintentionally. As humans, we all have bias, and it's often difficult\n",
    "  to consciously know when you are introducing bias in data.\n",
    "  Fairness-related harms\n",
    "\n",
    "What do you mean by unfairness? \"Unfairness\" encompasses negative impacts, or \"harms\", for a group of people, such as those defined in terms of race, gender, age, or disability status.\n",
    "The main fairness-related harms can be classified as:\n",
    "   1. Allocation, if a gender or ethnicity for example is favored over another.\n",
    "   2. Quality of service. If you train the data for one specific scenario but reality is much more complex, it leads to a poor performing service.\n",
    "   3. Stereotyping. Associating a given group with pre-assigned attributes.\n",
    "   4. Denigration. To unfairly criticize and label something or someone.\n",
    "   5. Over- or under- representation. The idea is that a certain group is not seen in a certain profession, and any service or function that keeps promoting that is contributing to harm.\n",
    "    \n",
    "    # Understand your models and build in fairness\n",
    "      When you are working with machine learning models, it is important to understand your models by means of assuring their interpretability and by assessing and mitigating unfairness.\n",
    "\n",
    "    # Assessment methods\n",
    "\n",
    "    1. Identify harms (and benefits). The first step is to identify harms and benefits. Think about how actions and decisions can affect both potential customers and a business itself.\n",
    "\n",
    "    2. Identify the affected groups. Once you understand what kind of harms or benefits that can occur, identify the groups that may be affected. Are these groups defined by gender, ethnicity, or social group?\n",
    "\n",
    "    3. Define fairness metrics. Finally, define a metric so you have something to measure against in your work to improve the situation.   "
   ]
  }
 ],
 "metadata": {
  "kernelspec": {
   "display_name": "Arewads",
   "language": "python",
   "name": "python3"
  },
  "language_info": {
   "name": "python",
   "version": "3.10.9"
  },
  "orig_nbformat": 4
 },
 "nbformat": 4,
 "nbformat_minor": 2
}
