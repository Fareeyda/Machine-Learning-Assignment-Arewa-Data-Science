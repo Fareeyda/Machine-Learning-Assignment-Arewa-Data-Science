{
 "cells": [
  {
   "attachments": {},
   "cell_type": "markdown",
   "metadata": {},
   "source": [
    "Try a different dataset"
   ]
  },
  {
   "attachments": {},
   "cell_type": "markdown",
   "metadata": {},
   "source": [
    "Instructions"
   ]
  },
  {
   "attachments": {},
   "cell_type": "markdown",
   "metadata": {},
   "source": [
    "Now that you have learned about using NLTK to assign sentiment to text, try a different dataset. You will probably need to do some data processing around it, so create a notebook and document your thought process. What do you discover?"
   ]
  },
  {
   "attachments": {},
   "cell_type": "markdown",
   "metadata": {},
   "source": [
    "# Load the dataset"
   ]
  },
  {
   "cell_type": "code",
   "execution_count": 25,
   "metadata": {},
   "outputs": [],
   "source": [
    "import nltk\n",
    "import pandas as pd\n",
    "\n",
    "df = pd.read_csv('../data/cyber bullying dataset.csv')\n",
    "\n"
   ]
  },
  {
   "cell_type": "code",
   "execution_count": 38,
   "metadata": {},
   "outputs": [
    {
     "name": "stdout",
     "output_type": "stream",
     "text": [
      "Blocked / Reported The Bully                                                                                8\n",
      "Fought Back the Bully                                                                                       4\n",
      "Blocked / Reported The Bully, Fought Back the Bully                                                         3\n",
      "Blocked / Reported The Bully, Talked to a Near one for emotional support, Fought Back the Bully             2\n",
      "Stopped using Social Media                                                                                  2\n",
      "I was scared to do anything                                                                                 2\n",
      "I was scared to do anything, Blocked / Reported The Bully, Filed an official complaint against the Bully    1\n",
      "Aaj mere paas bangla 🏢 hai, gadi hai 🚗, bank-balance hai 🤑💰 - tumhare paas kya hai?🤔😏😏”                     1\n",
      "I have never.But if I was bullied .I will fight back.                                                       1\n",
      "Blocked / Reported The Bully, Talked to a Near one for emotional support                                    1\n",
      "Filed an official complaint against the Bully                                                               1\n",
      "Never being cyber bullied                                                                                   1\n",
      "Filed an official complaint against the Bully, Fought Back the Bully                                        1\n",
      "Talked to a Near one for emotional support                                                                  1\n",
      "Name: If Yes , What was the way you dealt with the same, dtype: int64\n"
     ]
    }
   ],
   "source": [
    "# Count the ways individuals deal with cyberbullying incidents\n",
    "deal_methods = df['If Yes , What was the way you dealt with the same'].value_counts()\n",
    "\n",
    "# Print the count of each dealing method\n",
    "print(deal_methods)"
   ]
  },
  {
   "cell_type": "code",
   "execution_count": 39,
   "metadata": {},
   "outputs": [
    {
     "name": "stdout",
     "output_type": "stream",
     "text": [
      "idk\\n                                                                                                                                                                                                                        1\n",
      "Nothing                                                                                                                                                                                                                      1\n",
      "Well maybe short temper                                                                                                                                                                                                      1\n",
      "Never happened with me                                                                                                                                                                                                       1\n",
      "Me ignorin' what my frnds do...                                                                                                                                                                                              1\n",
      "Putting out too much personal info out there                                                                                                                                                                                 1\n",
      "I trusted wrong people                                                                                                                                                                                                       1\n",
      "Lack of awareness                                                                                                                                                                                                            1\n",
      "No idea. It is because those people think it is funny to bully others\\n                                                                                                                                                      1\n",
      "Someone took pictures of me without my permission and also a lot of times i have been stalked                                                                                                                                1\n",
      "Never have been                                                                                                                                                                                                              1\n",
      "my gender and age                                                                                                                                                                                                            1\n",
      "It was a generic marketing scam so I wasn't a specific target but yes it was tough                                                                                                                                           1\n",
      "my immatureness                                                                                                                                                                                                              1\n",
      "carelessness                                                                                                                                                                                                                 1\n",
      "na                                                                                                                                                                                                                           1\n",
      "Carelessness                                                                                                                                                                                                                 1\n",
      "Lack of knowledge                                                                                                                                                                                                            1\n",
      "My own mistakes                                                                                                                                                                                                              1\n",
      "I was not bullied                                                                                                                                                                                                            1\n",
      "Lack of awareness prolly                                                                                                                                                                                                     1\n",
      "being underage and lack of knowledge led me to be the victim                                                                                                                                                                 1\n",
      "No reason...or maybe they thought I'm underage and weak                                                                                                                                                                      1\n",
      "Kanta 🪡 Laga 🤧 Ooi 🥴 Maa 😫\\nOoi 🥴Maa😫 Ooi 🥴Maa😩 Ooi🥴 Maa😫\\nOoi🥴 Maa😫 Ooi 🥴Maa😫 Ooh 😮‍💨Ooh😮‍💨\\n\\nKaanta 🪡Laga ☠️Aaye🏃 Aaye🏃\\nAaye🏃 Aaye 🏃Aaye 🏃Aaye 🏃Ooh 😲Ooh😲                                                                1\n",
      "A person's hatred against me/my actions, and the convenient way in which a person can just form a fake profile on the internet and use it against someone, with a misconseption that their identity is completely hidden.    1\n",
      "Name: What do you think made you the victim of cyber bullying?, dtype: int64\n"
     ]
    }
   ],
   "source": [
    "# Count the perceived reasons for becoming a victim of cyberbullying\n",
    "victim_reasons = df['What do you think made you the victim of cyber bullying?'].value_counts()\n",
    "\n",
    "# Print the count of each reason\n",
    "print(victim_reasons)"
   ]
  },
  {
   "cell_type": "code",
   "execution_count": 40,
   "metadata": {},
   "outputs": [
    {
     "name": "stdout",
     "output_type": "stream",
     "text": [
      "All of the above                                                                                                                 32\n",
      "Instagram                                                                                                                        13\n",
      "Discord                                                                                                                           7\n",
      "Facebook                                                                                                                          5\n",
      "Whatsapp / Email                                                                                                                  2\n",
      "Hum💪🏻 tum mein😖 itne ched karenge 🙀👌🏻 ... ki confuse ho🤨🤯 jaoge ki saans kahan😝🤭 se le ... aur paadein kahan se😰😾                 1\n",
      "It happens on all apps what u use,depends on activity.                                                                            1\n",
      "Cyber bullying Takes place in almost every Social media platform                                                                  1\n",
      "Every social platform may lead to cyber bullying                                                                                  1\n",
      "All platforms                                                                                                                     1\n",
      "Reddit                                                                                                                            1\n",
      "Can be any interest source including calling but on a personal opinion, Instagram leads the soucre of cyber bullying in teens     1\n",
      "Instagram and YouTube                                                                                                             1\n",
      "Name: What Platform according to you leads in cyber bullying, dtype: int64\n"
     ]
    }
   ],
   "source": [
    "# Count the occurrences of each platform associated with cyberbullying\n",
    "platform_counts = df['What Platform according to you leads in cyber bullying'].value_counts()\n",
    "\n",
    "# Print the count of each platform\n",
    "print(platform_counts)"
   ]
  },
  {
   "cell_type": "code",
   "execution_count": 41,
   "metadata": {},
   "outputs": [
    {
     "name": "stdout",
     "output_type": "stream",
     "text": [
      "for money                                                                                                                                                                           1\n",
      "Ppl either intentionally tryin' to hurt someone when they fr hate the person...or ppl who r just trynaa hv fun...they unintentionally hurt ppl then                                 1\n",
      "Raiders Or Scammers                                                                                                                                                                 1\n",
      "It can be of any age group but usually teenagers                                                                                                                                    1\n",
      "Anyone could be the bully                                                                                                                                                           1\n",
      "hacker                                                                                                                                                                              1\n",
      "Who don't know about cyber bullying                                                                                                                                                 1\n",
      "People who hide their real face                                                                                                                                                     1\n",
      "Hackers                                                                                                                                                                             1\n",
      "Uneducated                                                                                                                                                                          1\n",
      "People of younger and quite older age                                                                                                                                               1\n",
      "Anyone can Be Bullied. Reason can be.perosnal grudges Etc.                                                                                                                          1\n",
      "Who don't have knowledge                                                                                                                                                            1\n",
      "The one who feels themselves above others or the victim , and treat them as shit                                                                                                    1\n",
      "computer friendly                                                                                                                                                                   1\n",
      "Anonymous people                                                                                                                                                                    1\n",
      "People who don't have someone to talk to about their problems and take out their anger on others. Also those who are jealous and want the attention they never get in real life     1\n",
      "who are insecure about themselves                                                                                                                                                   1\n",
      "Millenials                                                                                                                                                                          1\n",
      "Insecure people                                                                                                                                                                     1\n",
      "Illiterate, bossy, jobless people                                                                                                                                                   1\n",
      "Maybe the introverts who can't connect with people are usually attacked by bullies                                                                                                  1\n",
      "Over-confident people, Psyhologically under-developed people who are not able to grasp the seriousness of bullying someone in any way                                               1\n",
      "Gullible                                                                                                                                                                            1\n",
      "Social and popular people that engage in bullying to kill boredom                                                                                                                   1\n",
      "Hackers mostly who have never touched grass                                                                                                                                         1\n",
      " Psychological disturbed                                                                                                                                                            1\n",
      "Jobless                                                                                                                                                                             1\n",
      "people who are having a rough time irl and have hate built in within them.                                                                                                          1\n",
      "People who are insecure about themselves                                                                                                                                            1\n",
      "anyone can get cyber bullied                                                                                                                                                        1\n",
      "people who are just useless and dont have anything good to do in life                                                                                                               1\n",
      "The one who ain't get attention irl and online                                                                                                                                      1\n",
      "Toxic Kids, no lifers etc                                                                                                                                                           1\n",
      "Abusive, cruel, mean, and people with no manners ofc. They've never been taught to respect someone.                                                                                 1\n",
      "The people who have no time to spend or donot want the other person to be sucessful are the bullies                                                                                 1\n",
      "People who are more kind of extra introvert in real life                                                                                                                            1\n",
      "Threats And Warnings                                                                                                                                                                1\n",
      "People with dank/dark humor are mainly the bullies                                                                                                                                  1\n",
      "The people whose minds are corrupted and all                                                                                                                                        1\n",
      "pics pvt chats...                                                                                                                                                                   1\n",
      "Every                                                                                                                                                                               1\n",
      "Immature, Unoccupied, who are Insecure about themselves                                                                                                                             1\n",
      "They are either entertained by bullying or they carry the intensions to earn money / other gains.                                                                                   1\n",
      "Careless                                                                                                                                                                            1\n",
      "the people who are just pursuing an unusual career/work that is not accepted in the society even if it's ok to do                                                                   1\n",
      "The bad type                                                                                                                                                                        1\n",
      "Non Parental Control students and children                                                                                                                                          1\n",
      "Fake accounts one                                                                                                                                                                   1\n",
      "Insecure ones with anger issues/ones with problems at home with no place to vent/people that enjoy seeing others suffer                                                             1\n",
      "Who are not in good looks or black people                                                                                                                                           1\n",
      "idk                                                                                                                                                                                 1\n",
      "Hackers or insecure people who have technical skills                                                                                                                                1\n",
      "People that are insecure, have bad personal lives or just arent happy with themselves                                                                                               1\n",
      "Name: What type of people are usually the bullies on the internet?, dtype: int64\n"
     ]
    }
   ],
   "source": [
    "# Count the common characteristics attributed to cyberbullies\n",
    "cyberbully_characteristics = df['What type of people are usually the bullies on the internet?'].value_counts()\n",
    "\n",
    "# Print the count of each characteristic\n",
    "print(cyberbully_characteristics)"
   ]
  },
  {
   "cell_type": "code",
   "execution_count": 42,
   "metadata": {},
   "outputs": [
    {
     "name": "stdout",
     "output_type": "stream",
     "text": [
      "No     57\n",
      "Yes    11\n",
      "Name: Have You ever knowingly / Unknowingly bullied someone on the internet?, dtype: int64\n"
     ]
    }
   ],
   "source": [
    "# Count the occurrence of self-admitted cyberbullying behavior\n",
    "self_admitted_bullying = df['Have You ever knowingly / Unknowingly bullied someone on the internet?'].value_counts()\n",
    "\n",
    "# Print the count of self-admitted bullying\n",
    "print(self_admitted_bullying)"
   ]
  },
  {
   "cell_type": "code",
   "execution_count": 43,
   "metadata": {},
   "outputs": [
    {
     "name": "stdout",
     "output_type": "stream",
     "text": [
      "privacy leak                                                                                                                                 1\n",
      "revenge to my bully                                                                                                                          1\n",
      "Are mozzer hu bhay                                                                                                                           1\n",
      "If will bully me i will bully him back simple                                                                                                1\n",
      "Anger, frustration and immaturity                                                                                                            1\n",
      "Just 4 fun                                                                                                                                   1\n",
      "Nothing                                                                                                                                      1\n",
      "peer pressure                                                                                                                                1\n",
      "Have not                                                                                                                                     1\n",
      "I haven’t                                                                                                                                    1\n",
      "I haven’t bullied anyone                                                                                                                     1\n",
      "Generally disliking the person may lead me to send more negative messages. It may not be bullying per se though.                             1\n",
      "No. \\n                                                                                                                                       1\n",
      "Useless enmity                                                                                                                               1\n",
      "There are different dimensions to bullying, if i ever did, it was most probably unintentional and whether i ever did it or not is unclear    1\n",
      "Name: What lead you to bully someone ? ( if yes ), dtype: int64\n"
     ]
    }
   ],
   "source": [
    "# Count the motivations or factors leading to cyberbullying\n",
    "bullying_motivations = df['What lead you to bully someone ? ( if yes )'].value_counts()\n",
    "\n",
    "# Print the count of each motivation\n",
    "print(bullying_motivations)"
   ]
  },
  {
   "cell_type": "code",
   "execution_count": 44,
   "metadata": {},
   "outputs": [
    {
     "name": "stdout",
     "output_type": "stream",
     "text": [
      "All of above                                   53\n",
      "Influencers / Famous People                     8\n",
      "People with different sexual orientation        4\n",
      "People with Distinctive Physical appearance     3\n",
      "Name: What kind of people are usually the victims of cyber-bullying?, dtype: int64\n"
     ]
    }
   ],
   "source": [
    "# Count the characteristics associated with individuals who are more likely to be victims of cyberbullying\n",
    "victim_characteristics = df['What kind of people are usually the victims of cyber-bullying?'].value_counts()\n",
    "\n",
    "# Print the count of each characteristic\n",
    "print(victim_characteristics)"
   ]
  },
  {
   "cell_type": "code",
   "execution_count": 45,
   "metadata": {},
   "outputs": [
    {
     "name": "stdout",
     "output_type": "stream",
     "text": [
      "Lack of awareness         37\n",
      "Mental Health Problems    12\n",
      "Casteism / Racism          9\n",
      "Sadism                     7\n",
      "Gender Bias                3\n",
      "Name: What are the causes of cyber bullying according to you, dtype: int64\n"
     ]
    }
   ],
   "source": [
    "# Count the perceived causes of cyberbullying\n",
    "causes_of_bullying = df['What are the causes of cyber bullying according to you'].value_counts()\n",
    "\n",
    "# Print the count of each cause\n",
    "print(causes_of_bullying)"
   ]
  },
  {
   "cell_type": "code",
   "execution_count": 46,
   "metadata": {},
   "outputs": [
    {
     "name": "stdout",
     "output_type": "stream",
     "text": [
      "equal impact             50\n",
      "Bullying in real life    14\n",
      "Cyber Bullying            4\n",
      "Name: What has more impact on an individual , Cyber Bullying or Bullying in real life ?, dtype: int64\n"
     ]
    }
   ],
   "source": [
    "# Count the perceptions of the impact of cyberbullying and traditional bullying\n",
    "impact_comparison = df['What has more impact on an individual , Cyber Bullying or Bullying in real life ?'].value_counts()\n",
    "\n",
    "# Print the count of each perception\n",
    "print(impact_comparison)"
   ]
  },
  {
   "cell_type": "code",
   "execution_count": 47,
   "metadata": {},
   "outputs": [
    {
     "name": "stdout",
     "output_type": "stream",
     "text": [
      "Can be both                             62\n",
      "A stranger                               3\n",
      "Someone you know/are acquainted with     3\n",
      "Name: Who are bullies usually?, dtype: int64\n"
     ]
    }
   ],
   "source": [
    "# Count the characteristics typically associated with bullies\n",
    "general_bully_characteristics = df['Who are bullies usually?'].value_counts()\n",
    "\n",
    "# Print the count of each characteristic\n",
    "print(general_bully_characteristics)"
   ]
  },
  {
   "cell_type": "code",
   "execution_count": 48,
   "metadata": {},
   "outputs": [
    {
     "name": "stdout",
     "output_type": "stream",
     "text": [
      "\n",
      "Frequency of ways respondents dealt with cyberbullying:\n",
      "Blocked / Reported The Bully                                                                                8\n",
      "Fought Back the Bully                                                                                       4\n",
      "Blocked / Reported The Bully, Fought Back the Bully                                                         3\n",
      "Blocked / Reported The Bully, Talked to a Near one for emotional support, Fought Back the Bully             2\n",
      "Stopped using Social Media                                                                                  2\n",
      "I was scared to do anything                                                                                 2\n",
      "I was scared to do anything, Blocked / Reported The Bully, Filed an official complaint against the Bully    1\n",
      "Aaj mere paas bangla 🏢 hai, gadi hai 🚗, bank-balance hai 🤑💰 - tumhare paas kya hai?🤔😏😏”                     1\n",
      "I have never.But if I was bullied .I will fight back.                                                       1\n",
      "Blocked / Reported The Bully, Talked to a Near one for emotional support                                    1\n",
      "Filed an official complaint against the Bully                                                               1\n",
      "Never being cyber bullied                                                                                   1\n",
      "Filed an official complaint against the Bully, Fought Back the Bully                                        1\n",
      "Talked to a Near one for emotional support                                                                  1\n",
      "Name: If Yes , What was the way you dealt with the same, dtype: int64\n"
     ]
    }
   ],
   "source": [
    "# Calculate the frequency of different ways respondents dealt with cyberbullying\n",
    "dealing_methods_frequency = df['If Yes , What was the way you dealt with the same'].value_counts()\n",
    "print(\"\\nFrequency of ways respondents dealt with cyberbullying:\")\n",
    "print(dealing_methods_frequency)"
   ]
  }
 ],
 "metadata": {
  "kernelspec": {
   "display_name": "Arewads",
   "language": "python",
   "name": "python3"
  },
  "language_info": {
   "codemirror_mode": {
    "name": "ipython",
    "version": 3
   },
   "file_extension": ".py",
   "mimetype": "text/x-python",
   "name": "python",
   "nbconvert_exporter": "python",
   "pygments_lexer": "ipython3",
   "version": "3.10.9"
  },
  "orig_nbformat": 4
 },
 "nbformat": 4,
 "nbformat_minor": 2
}
