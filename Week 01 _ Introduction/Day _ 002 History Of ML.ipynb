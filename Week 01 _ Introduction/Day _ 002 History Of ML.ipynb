{
 "cells": [
  {
   "attachments": {},
   "cell_type": "markdown",
   "metadata": {},
   "source": [
    "HISTORY OF ML"
   ]
  },
  {
   "cell_type": "code",
   "execution_count": null,
   "metadata": {
    "vscode": {
     "languageId": "plaintext"
    }
   },
   "outputs": [],
   "source": [
    "# notable discoveries in the history of machine learning\n",
    "    1763, 1812 Bayes Theorem and its predecessors. This theorem and its applications underlie inference, describing the probability of an event occurring based on prior knowledge.\n",
    "    1805 Least Square Theory by French mathematician Adrien-Marie Legendre. This theory, which you will learn about in our Regression unit, helps in data fitting.\n",
    "    1913 Markov Chains, named after Russian mathematician Andrey Markov, is used to describe a sequence of possible events based on a previous state.\n",
    "    1957 Perceptron is a type of linear classifier invented by American psychologist Frank Rosenblatt that underlies advances in deep learning.\n",
    "        1967 Nearest Neighbor is an algorithm originally designed to map routes. In an ML context it is used to detect patterns.\n",
    "    1970 Backpropagation is used to train feedforward neural networks.\n",
    "    1982 Recurrent Neural Networks are artificial neural networks derived from feedforward neural networks that create temporal graphs."
   ]
  },
  {
   "cell_type": "code",
   "execution_count": null,
   "metadata": {
    "vscode": {
     "languageId": "plaintext"
    }
   },
   "outputs": [],
   "source": [
    "# 1950: Machines that think\n",
    "  In 1950, British mathematician and computer scientist Alan Turing\n",
    "  published an article titled \"Computing Machinery and Intelligence\"\n",
    "  in the journal Mind. In this article, Turing proposed the concept of the Turing test,\n",
    "  which is a test of a machine's ability to exhibit intelligent behavior equivalent to,\n",
    "  or indistinguishable from, that of a human."
   ]
  },
  {
   "cell_type": "code",
   "execution_count": null,
   "metadata": {
    "vscode": {
     "languageId": "plaintext"
    }
   },
   "outputs": [],
   "source": [
    "#1956: Dartmouth Summer Research Project\n",
    " The Dartmouth Summer Research Project on Artificial Intelligence\n",
    " was a seminal event in the history of artificial intelligence (AI).\n",
    " It was a six-week workshop held at Dartmouth College in the summer \n",
    " of 1956, and it brought together researchers from a variety of fields\n",
    " to explore the possibility of creating machines that could perform tasks\n",
    " traditionally associated with human intelligence.\n",
    " The workshop was organized by John McCarthy, Marvin Minsky, Nathaniel\n",
    " Rochester, and Claude Shannon, and it included participants such as \n",
    " Allen Newell, Herbert A. Simon, and Arthur Samuel. The group set out\n",
    " to explore topics such as problem solving, language processing, and machine learning,\n",
    " among others.The workshop was significant because it marked the beginning of the field \n",
    " of AI as a distinct discipline"
   ]
  },
  {
   "cell_type": "code",
   "execution_count": null,
   "metadata": {
    "vscode": {
     "languageId": "plaintext"
    }
   },
   "outputs": [],
   "source": [
    "#1956 - 1974: \"The golden years\"\n",
    " The period between 1956 and 1974 is often referred to as\n",
    " \"the golden years\" of artificial intelligence (AI). During\n",
    " this time, significant progress was made in the development\n",
    " of AI technologies and the field began to mature as a distinct\n",
    " area of research.\n",
    " One of the major achievements of this period was the development\n",
    " of the first AI programs. In 1956, the Logic Theorist, developed\n",
    " by Allen Newell and J. C. Shaw, became the first program to prove \n",
    " mathematical theorems. This was followed by the development of other\n",
    " pioneering AI programs, such as the General Problem Solver (GPS) and the SAINT (Symbolic Automatic INTegrator).\n",
    " However, the optimism of the golden years began to wane in the 1970s. Progress in AI began to slow down, and\n",
    " researchers began to realize that many of the challenges they faced were more difficult than initially thought.\n",
    " The limitations of the available hardware and lack of funding also contributed to the slowdown.\n",
    " This led to what is known as the \"AI winter,\" a period of reduced funding and interest in AI research that lasted  \n",
    " from the late 1970s to the mid-1980s."
   ]
  },
  {
   "cell_type": "code",
   "execution_count": null,
   "metadata": {
    "vscode": {
     "languageId": "plaintext"
    }
   },
   "outputs": [],
   "source": [
    "# 1974 - 1980: \"AI Winter\"\n",
    "  By the mid 1970s, it had become apparent that the complexity\n",
    "  of making 'intelligent machines' had been understated and that\n",
    "  its promise, given the available compute power, had been overblown.\n",
    "  Funding dried up and confidence in the field slowed. Some issues\n",
    "  that impacted confidence included:\n",
    "  1. Limitations. Compute power was too limited.\n",
    "  2. Combinatorial explosion. The amount of parameters needed to be trained grew exponentially as more was asked of computers, without a parallel evolution of compute power and capability.\n",
    "  3. Paucity of data. There was a paucity of data that hindered the process of testing, developing, and refining algorithms.\n",
    "  4. Are we asking the right questions?. The very questions that were being asked began to be questioned. Researchers began to field criticism about their approaches:"
   ]
  },
  {
   "cell_type": "code",
   "execution_count": null,
   "metadata": {
    "vscode": {
     "languageId": "plaintext"
    }
   },
   "outputs": [],
   "source": [
    "# 1987 - 1993: AI 'Chill'\n",
    "  he proliferation of specialized expert systems hardware had the\n",
    "  unfortunate effect of becoming too specialized. The rise of personal\n",
    "  computers also competed with these large, specialized, centralized \n",
    "  systems. The democratization of computing had begun, and it eventually \n",
    "  paved the way for the modern explosion of big data.\n"
   ]
  }
 ],
 "metadata": {
  "kernelspec": {
   "display_name": "Arewads",
   "language": "python",
   "name": "python3"
  },
  "language_info": {
   "name": "python",
   "version": "3.10.9"
  },
  "orig_nbformat": 4
 },
 "nbformat": 4,
 "nbformat_minor": 2
}
